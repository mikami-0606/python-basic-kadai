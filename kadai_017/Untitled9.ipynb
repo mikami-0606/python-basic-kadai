{
  "nbformat": 4,
  "nbformat_minor": 0,
  "metadata": {
    "colab": {
      "provenance": []
    },
    "kernelspec": {
      "name": "python3",
      "display_name": "Python 3"
    },
    "language_info": {
      "name": "python"
    }
  },
  "cells": [
    {
      "cell_type": "code",
      "execution_count": 20,
      "metadata": {
        "colab": {
          "base_uri": "https://localhost:8080/"
        },
        "id": "tzw7Hu5xulUa",
        "outputId": "0b831d52-3603-4f64-8e9b-7627e66ca5c6"
      },
      "outputs": [
        {
          "output_type": "stream",
          "name": "stdout",
          "text": [
            "mikamiは大人です\n"
          ]
        }
      ],
      "source": [
        "class Human:\n",
        "    def __init__(self, name, age):\n",
        "        self.name = name\n",
        "        self.age = age\n",
        "\n",
        "\n",
        "    def check_adult(self):\n",
        "        if self.age < 20:\n",
        "            print(f\"{self.name}は大人ではありません\")\n",
        "        else:\n",
        "            print(f\"{self.name}は大人です\")\n",
        "\n",
        "human = Human(\"mikami\",22)\n",
        "human.check_adult()\n",
        "\n",
        "\n",
        "\n",
        "\n",
        "\n"
      ]
    }
  ]
}