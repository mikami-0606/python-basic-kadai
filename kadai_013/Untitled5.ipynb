{
  "nbformat": 4,
  "nbformat_minor": 0,
  "metadata": {
    "colab": {
      "provenance": []
    },
    "kernelspec": {
      "name": "python3",
      "display_name": "Python 3"
    },
    "language_info": {
      "name": "python"
    }
  },
  "cells": [
    {
      "cell_type": "code",
      "source": [],
      "metadata": {
        "id": "5dI-XKiXCd4t"
      },
      "execution_count": null,
      "outputs": []
    },
    {
      "cell_type": "code",
      "source": [
        "def add_two_arguments(price,Consumption_tax):\n",
        "   # 与えられた引数priceに引数shipping_feeを乗算し、変数totalに代入する\n",
        "   total = price * Consumption_tax\n",
        "\n",
        "   # 変数$totalの値を出力する\n",
        "   print(f\"{total}円\")\n",
        "\n",
        "    # 関数を呼び出し、引数として購入金額と送料を渡す\n",
        "add_two_arguments(1200, 1.1)"
      ],
      "metadata": {
        "colab": {
          "base_uri": "https://localhost:8080/"
        },
        "id": "6jWAvpQ8ExyP",
        "outputId": "bb87e143-ac3c-45fc-ebf0-670597ee931f"
      },
      "execution_count": 6,
      "outputs": [
        {
          "output_type": "stream",
          "name": "stdout",
          "text": [
            "1320.0円\n"
          ]
        }
      ]
    }
  ]
}