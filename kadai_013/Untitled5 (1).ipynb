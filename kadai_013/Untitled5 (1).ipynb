{
  "nbformat": 4,
  "nbformat_minor": 0,
  "metadata": {
    "colab": {
      "provenance": []
    },
    "kernelspec": {
      "name": "python3",
      "display_name": "Python 3"
    },
    "language_info": {
      "name": "python"
    }
  },
  "cells": [
    {
      "cell_type": "code",
      "source": [],
      "metadata": {
        "id": "5dI-XKiXCd4t"
      },
      "execution_count": null,
      "outputs": []
    },
    {
      "cell_type": "code",
      "source": [
        "def add_arguments():\n",
        "    price = 1200\n",
        "    return price\n",
        "\n",
        "def double(price):\n",
        "    return price * 1.1\n",
        "\n",
        "price = add_arguments()\n",
        "doubled_price = double(price)\n",
        "print(doubled_price)\n"
      ],
      "metadata": {
        "colab": {
          "base_uri": "https://localhost:8080/"
        },
        "id": "6jWAvpQ8ExyP",
        "outputId": "7891f7e9-195b-41e6-ac80-d357fb7138e1"
      },
      "execution_count": 20,
      "outputs": [
        {
          "output_type": "stream",
          "name": "stdout",
          "text": [
            "1320.0\n"
          ]
        }
      ]
    }
  ]
}