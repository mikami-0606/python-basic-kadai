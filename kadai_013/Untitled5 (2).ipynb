{
  "nbformat": 4,
  "nbformat_minor": 0,
  "metadata": {
    "colab": {
      "provenance": []
    },
    "kernelspec": {
      "name": "python3",
      "display_name": "Python 3"
    },
    "language_info": {
      "name": "python"
    }
  },
  "cells": [
    {
      "cell_type": "code",
      "source": [],
      "metadata": {
        "id": "5dI-XKiXCd4t"
      },
      "execution_count": null,
      "outputs": []
    },
    {
      "cell_type": "code",
      "source": [
        "def add_two_arguments(price, tax):\n",
        "    total=price*tax\n",
        "    return total\n",
        "\n",
        "def main():\n",
        "    price = 1200\n",
        "    tax = 1.1\n",
        "\n",
        "    total = add_two_arguments(price, tax)\n",
        "    print(total)\n",
        "\n",
        "main()"
      ],
      "metadata": {
        "id": "6jWAvpQ8ExyP",
        "colab": {
          "base_uri": "https://localhost:8080/"
        },
        "outputId": "48830315-9354-4808-d0b2-9e865a3da97a"
      },
      "execution_count": 8,
      "outputs": [
        {
          "output_type": "stream",
          "name": "stdout",
          "text": [
            "1320.0\n"
          ]
        }
      ]
    }
  ]
}