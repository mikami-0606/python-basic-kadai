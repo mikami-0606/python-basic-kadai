{
  "nbformat": 4,
  "nbformat_minor": 0,
  "metadata": {
    "colab": {
      "provenance": []
    },
    "kernelspec": {
      "name": "python3",
      "display_name": "Python 3"
    },
    "language_info": {
      "name": "python"
    }
  },
  "cells": [
    {
      "cell_type": "code",
      "source": [
        "up_line=10\n",
        "down_line=20\n",
        "hight=5\n",
        "\n",
        "area=(up_line+down_line)*hight/2\n",
        "\n",
        "print(f\"台形の面積は{area}㎠である。\")\n"
      ],
      "metadata": {
        "colab": {
          "base_uri": "https://localhost:8080/"
        },
        "id": "B-1vDwtfeMFC",
        "outputId": "ad7b886c-8d61-4033-a48f-76290f2ddd62"
      },
      "execution_count": 43,
      "outputs": [
        {
          "output_type": "stream",
          "name": "stdout",
          "text": [
            "台形の面積は75.0㎠である。\n"
          ]
        }
      ]
    }
  ]
}