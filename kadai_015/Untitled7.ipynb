{
  "nbformat": 4,
  "nbformat_minor": 0,
  "metadata": {
    "colab": {
      "provenance": []
    },
    "kernelspec": {
      "name": "python3",
      "display_name": "Python 3"
    },
    "language_info": {
      "name": "python"
    }
  },
  "cells": [
    {
      "cell_type": "code",
      "source": [
        "class Human:\n",
        "    # コンストラクタを定義する\n",
        "    def __init__(self, name, age):\n",
        "        self.name = name\n",
        "        self.age = age\n",
        "\n",
        "# メソッドを定義する\n",
        "    def set_printinfo(Human):\n",
        "        self.name = name\n",
        "        self.age = age\n",
        "\n",
        "    def show_printinfo(Human):\n",
        "        print(self.name)\n",
        "        print(self.age)\n",
        "\n",
        "    # インスタンス化する\n",
        "    mikami = Product()\n",
        "    age = Product()\n",
        "\n",
        "    # メソッドにアクセスして実行する\n",
        "    mikami.set_name(\"ミカミ\")\n",
        "    mikami.show_name()\n",
        "    age.set_name(\"22\")\n",
        "    age.show_name()\n",
        "\n",
        "\n"
      ],
      "metadata": {
        "colab": {
          "base_uri": "https://localhost:8080/"
        },
        "id": "vz5Bn7tQFkCN",
        "outputId": "31fb9019-d5aa-4c1c-d0f0-6662f997de6c"
      },
      "execution_count": 7,
      "outputs": [
        {
          "output_type": "stream",
          "name": "stdout",
          "text": [
            "ミカミ\n",
            "22\n"
          ]
        }
      ]
    }
  ]
}